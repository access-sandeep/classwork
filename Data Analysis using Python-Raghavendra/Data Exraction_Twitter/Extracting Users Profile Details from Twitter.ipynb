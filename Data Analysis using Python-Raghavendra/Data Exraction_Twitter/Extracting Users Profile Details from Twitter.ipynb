{
 "cells": [
  {
   "cell_type": "markdown",
   "metadata": {},
   "source": [
    "# Extracting User's Profile Details from Twitter"
   ]
  },
  {
   "cell_type": "code",
   "execution_count": 1,
   "metadata": {},
   "outputs": [
    {
     "data": {
      "text/plain": [
       "'3.8.0'"
      ]
     },
     "execution_count": 1,
     "metadata": {},
     "output_type": "execute_result"
    }
   ],
   "source": [
    "import pandas as pd\n",
    "import tweepy\n",
    "\n",
    "tweepy.__version__"
   ]
  },
  {
   "cell_type": "code",
   "execution_count": 2,
   "metadata": {},
   "outputs": [
    {
     "data": {
      "text/plain": [
       "<tweepy.api.API at 0x11952e5d0>"
      ]
     },
     "execution_count": 2,
     "metadata": {},
     "output_type": "execute_result"
    }
   ],
   "source": [
    "def get_api():\n",
    "    consumer_key = 'TufHzi954jfLE7O8YHtK2iFx9'\n",
    "    consumer_secret = 'x5QhSUCQfV4QYQd5UfRyVeP8tJSMknEJs07WdOXhTGGh3KdfXx'\n",
    "    access_token = '887731387322650624-UTsVRJN1tnwHuGD8TcZNnKuo0OAf9jj'\n",
    "    access_token_secret = 'YWY6AWChWiz6OUaV6ePDyJKcVna03P1vP2nYVautvfIEZ'\n",
    "    \n",
    "    auth = tweepy.OAuthHandler(consumer_key, consumer_secret)\n",
    "    auth.set_access_token(access_token, access_token_secret)\n",
    "\n",
    "    # Access Twitter API\n",
    "    api = tweepy.API(auth, wait_on_rate_limit=True)\n",
    "    return api\n",
    "api = get_api()\n",
    "api"
   ]
  },
  {
   "cell_type": "markdown",
   "metadata": {},
   "source": [
    "### Get your profile info"
   ]
  },
  {
   "cell_type": "code",
   "execution_count": 3,
   "metadata": {},
   "outputs": [],
   "source": [
    "user = 'who'\n",
    "user_details = api.get_user(user)"
   ]
  },
  {
   "cell_type": "code",
   "execution_count": 4,
   "metadata": {},
   "outputs": [
    {
     "data": {
      "text/plain": [
       "{'id': 14499829,\n",
       " 'id_str': '14499829',\n",
       " 'name': 'World Health Organization (WHO)',\n",
       " 'screen_name': 'WHO',\n",
       " 'location': 'Geneva, Switzerland',\n",
       " 'profile_location': None,\n",
       " 'description': 'We are the #UnitedNations’ health agency. We are committed to achieving better health for everyone, everywhere - #HealthForAll',\n",
       " 'url': 'https://t.co/wVulKuROWG',\n",
       " 'entities': {'url': {'urls': [{'url': 'https://t.co/wVulKuROWG',\n",
       "     'expanded_url': 'http://www.who.int',\n",
       "     'display_url': 'who.int',\n",
       "     'indices': [0, 23]}]},\n",
       "  'description': {'urls': []}},\n",
       " 'protected': False,\n",
       " 'followers_count': 7939387,\n",
       " 'friends_count': 1721,\n",
       " 'listed_count': 31428,\n",
       " 'created_at': 'Wed Apr 23 19:56:27 +0000 2008',\n",
       " 'favourites_count': 10730,\n",
       " 'utc_offset': None,\n",
       " 'time_zone': None,\n",
       " 'geo_enabled': True,\n",
       " 'verified': True,\n",
       " 'statuses_count': 52343,\n",
       " 'lang': None,\n",
       " 'status': {'created_at': 'Thu Jun 11 11:30:59 +0000 2020',\n",
       "  'id': 1271042240043978753,\n",
       "  'id_str': '1271042240043978753',\n",
       "  'text': \"At today's WHO Member States Information Session, the following Health Ministers/Representatives are sharing… https://t.co/VxGMsCUE6N\",\n",
       "  'truncated': True,\n",
       "  'entities': {'hashtags': [],\n",
       "   'symbols': [],\n",
       "   'user_mentions': [],\n",
       "   'urls': [{'url': 'https://t.co/VxGMsCUE6N',\n",
       "     'expanded_url': 'https://twitter.com/i/web/status/1271042240043978753',\n",
       "     'display_url': 'twitter.com/i/web/status/1…',\n",
       "     'indices': [110, 133]}]},\n",
       "  'source': '<a href=\"https://mobile.twitter.com\" rel=\"nofollow\">Twitter Web App</a>',\n",
       "  'in_reply_to_status_id': None,\n",
       "  'in_reply_to_status_id_str': None,\n",
       "  'in_reply_to_user_id': None,\n",
       "  'in_reply_to_user_id_str': None,\n",
       "  'in_reply_to_screen_name': None,\n",
       "  'geo': None,\n",
       "  'coordinates': None,\n",
       "  'place': None,\n",
       "  'contributors': None,\n",
       "  'is_quote_status': False,\n",
       "  'retweet_count': 12,\n",
       "  'favorite_count': 56,\n",
       "  'favorited': False,\n",
       "  'retweeted': False,\n",
       "  'possibly_sensitive': False,\n",
       "  'lang': 'en'},\n",
       " 'contributors_enabled': False,\n",
       " 'is_translator': False,\n",
       " 'is_translation_enabled': False,\n",
       " 'profile_background_color': 'D0ECF8',\n",
       " 'profile_background_image_url': 'http://abs.twimg.com/images/themes/theme1/bg.png',\n",
       " 'profile_background_image_url_https': 'https://abs.twimg.com/images/themes/theme1/bg.png',\n",
       " 'profile_background_tile': True,\n",
       " 'profile_image_url': 'http://pbs.twimg.com/profile_images/875476478988886016/_l61qZdR_normal.jpg',\n",
       " 'profile_image_url_https': 'https://pbs.twimg.com/profile_images/875476478988886016/_l61qZdR_normal.jpg',\n",
       " 'profile_banner_url': 'https://pbs.twimg.com/profile_banners/14499829/1582794472',\n",
       " 'profile_link_color': '0396DB',\n",
       " 'profile_sidebar_border_color': '8C8C8C',\n",
       " 'profile_sidebar_fill_color': 'D9D9D9',\n",
       " 'profile_text_color': '000000',\n",
       " 'profile_use_background_image': True,\n",
       " 'has_extended_profile': True,\n",
       " 'default_profile': False,\n",
       " 'default_profile_image': False,\n",
       " 'following': False,\n",
       " 'follow_request_sent': False,\n",
       " 'notifications': False,\n",
       " 'translator_type': 'regular'}"
      ]
     },
     "execution_count": 4,
     "metadata": {},
     "output_type": "execute_result"
    }
   ],
   "source": [
    "user_details._json"
   ]
  },
  {
   "cell_type": "code",
   "execution_count": 5,
   "metadata": {},
   "outputs": [
    {
     "data": {
      "text/plain": [
       "'World Health Organization (WHO)'"
      ]
     },
     "execution_count": 5,
     "metadata": {},
     "output_type": "execute_result"
    }
   ],
   "source": [
    "user_details.name"
   ]
  },
  {
   "cell_type": "code",
   "execution_count": 6,
   "metadata": {},
   "outputs": [
    {
     "data": {
      "text/plain": [
       "7939387"
      ]
     },
     "execution_count": 6,
     "metadata": {},
     "output_type": "execute_result"
    }
   ],
   "source": [
    "user_details.followers_count"
   ]
  },
  {
   "cell_type": "code",
   "execution_count": 7,
   "metadata": {},
   "outputs": [
    {
     "data": {
      "text/plain": [
       "1721"
      ]
     },
     "execution_count": 7,
     "metadata": {},
     "output_type": "execute_result"
    }
   ],
   "source": [
    "user_details.friends_count"
   ]
  },
  {
   "cell_type": "code",
   "execution_count": 8,
   "metadata": {},
   "outputs": [
    {
     "data": {
      "text/plain": [
       "14499829"
      ]
     },
     "execution_count": 8,
     "metadata": {},
     "output_type": "execute_result"
    }
   ],
   "source": [
    "user_details.id"
   ]
  },
  {
   "cell_type": "markdown",
   "metadata": {},
   "source": [
    "### Extract list of followers"
   ]
  },
  {
   "cell_type": "code",
   "execution_count": 9,
   "metadata": {},
   "outputs": [
    {
     "name": "stdout",
     "output_type": "stream",
     "text": [
      "20\n",
      "---- Friends Name----\n",
      "WHO Poland 1268809966619680768\n",
      "The Global Preparedness Monitoring Board 1268634768855318530\n",
      "Samira Asma 984540045997731840\n",
      "Abiy Ahmed Ali 🇪🇹 1168167671151628290\n",
      "Palki Sharma 49923337\n",
      "Goodable 1160957211369230343\n",
      "Thiago Silva 2813712709\n",
      "Maria Van Kerkhove 2178775035\n",
      "Michelle Nicole 254286047\n",
      "Restream 2733966036\n",
      "James Chau 20897050\n",
      "Professor Senait Fisseha 1531038577\n",
      "Li Ailan 4812787736\n",
      "OMS Afrique 1225781916206542849\n",
      "Sadeq Al-Wesabi صادق الوصابي 245798850\n",
      "WHO Djibouti 1198928880750530561\n",
      "Ellen Johnson Sirleaf 1019321315126280192\n",
      "TikTok 2401980110\n",
      "WhatsApp Inc. 40148479\n",
      "Snapchat 376502929\n"
     ]
    }
   ],
   "source": [
    "friends_objects = api.friends(id=user)\n",
    "\n",
    "print(len(friends_objects))\n",
    "print('---- Friends Name----')\n",
    "for friend in friends_objects:\n",
    "    print(friend.name, friend.id)"
   ]
  },
  {
   "cell_type": "code",
   "execution_count": null,
   "metadata": {},
   "outputs": [],
   "source": [
    "### Using cursor to loop through multiple page\n",
    "# api.friends -> get list of friends\n",
    "# api.followers -> get list of followers"
   ]
  },
  {
   "cell_type": "code",
   "execution_count": 10,
   "metadata": {},
   "outputs": [
    {
     "name": "stdout",
     "output_type": "stream",
     "text": [
      "WHO Poland | 1268809966619680768 | Warsaw, Poland\n",
      "The Global Preparedness Monitoring Board | 1268634768855318530 | Geneva, Switzerland\n",
      "Samira Asma | 984540045997731840 | Geneva, Switzerland\n",
      "Abiy Ahmed Ali 🇪🇹 | 1168167671151628290 | Ethiopia\n",
      "Palki Sharma | 49923337 | delhi\n",
      "Goodable | 1160957211369230343 | Canada and the World\n",
      "Thiago Silva | 2813712709 | Paris, France\n",
      "Maria Van Kerkhove | 2178775035 | Geneva, Switzerland\n",
      "Michelle Nicole | 254286047 | Los Angeles, CA\n",
      "Restream | 2733966036 | \n",
      "James Chau | 20897050 | \n",
      "Professor Senait Fisseha | 1531038577 | Ann Arbor, Omaha, Addis Ababa\n",
      "Li Ailan | 4812787736 | World Health Organizaiton \n",
      "OMS Afrique | 1225781916206542849 | Brazzaville\n",
      "Sadeq Al-Wesabi صادق الوصابي | 245798850 | Cairo, Egypt\n",
      "WHO Djibouti | 1198928880750530561 | Djibouti\n",
      "Ellen Johnson Sirleaf | 1019321315126280192 | Liberia\n",
      "TikTok | 2401980110 | Global\n",
      "WhatsApp Inc. | 40148479 | California\n",
      "Snapchat | 376502929 | Los Angeles, CA\n",
      "Dairo Vargas | 208263476 | London\n",
      "TikTok UK | 781337756773519360 | London, England\n",
      "Tijjani Muhammad-Bande | 1151608538772455435 | New York, USA\n",
      "OPS/OMS República Dominicana | 1171448566767767553 | Santo Domingo, RD\n",
      "Talinda Bennington-Friedman | 36804612 | Matrix\n",
      "Alisson Becker | 75881205 | \n",
      "Natália Loewe Becker | 1130459589516783616 | \n",
      "OMS RDC | 1115547005831585792 | Kinshasa\n",
      "Pelly the Pelican | 3376450996 | \n",
      "OMSMocambique | 1110124556654690304 | Republic of Mozambique\n",
      "Mike Ryan | 1106160968734773248 | Geneva, Switzerland\n",
      "Gabby Stern | 805276508 | Geneva, Switzerland\n",
      "IATA | 27067896 | Geneva and Montreal\n",
      "Dr Takeshi Kasai | 918829268372635648 | Manila City\n",
      "Mauricio Macri | 24900072 | Buenos Aires, Argentina\n",
      "Iván Duque 🇨🇴 | 77653794 | \n",
      "UAEAid | 258260988 | UAE\n",
      "Lady Gaga | 14230524 | \n",
      "Canada | 2459609448 | Canada\n",
      "FAO Newsroom | 994571434382053376 | Rome, Lazio\n",
      "UNCTAD | 92263845 | Geneva, Switzerland\n",
      "Mwele Malecela | 443062562 | Geneva, Switzerland\n",
      "Frankfurter Allgemeine | 18047862 | Frankfurt am Main\n",
      "Patricia Espinosa C. | 214842351 | Bonn, Germany\n",
      "Steve Davis | 1898989837 | Seattle, WA\n",
      "Global Citizen | 596893898 | Worldwide\n",
      "Maggie De Block | 2860510937 | Brussel, België\n",
      "IFMSA | 81441548 | Copenhagen, Denmark\n",
      "Spokesperson 🇵🇰 MoFA | 314479335 | Pakistan\n",
      "Julio Mazzoleni | 1030099481533014017 | Asunción, Paraguay\n",
      "Ellen Trane Nørby | 34569194 | \n",
      "Sundheds- og Ældreministeriet | 1005911133683945472 | Copenhagen, Denmark\n",
      "stefan peterson | 626815215 | New York City\n",
      "Anders Nordström | 1258979191 | Stockholm, Sverige\n",
      "Minister of Health | 757623733888675840 | \n",
      "GIPHY | 1020383864 | New York, NY\n",
      "Diah Saminarsih | 51905331 | Geneva, Switzerland\n",
      "Nata Menabde | 3893318087 | New York, NY\n",
      "Sushma Swaraj | 219617448 | New Delhi, India\n",
      "FIGO HQ | 487531221 | Global\n",
      "Sida | 74703019 | Stockholm\n",
      "Constantinos Ioannou | 967817923850129421 | Cyprus\n",
      "Vlada Republike Slovenije | 46612022 | Slovenija\n",
      "GOV.UZ | 75402364 | Tashkent, Uzbekistan\n",
      "Michel Thieren | 1027545111402606592 | Cairo, Egypt\n",
      "SERGIO SÁNCHEZ | 374175430 | Planet Earth\n",
      "Heike Thiele | 949232564711165953 | Berlin, Germany\n",
      "UN Youth Envoy | 2923724679 | \n",
      "Amy Maxmen | 221580114 | Oakland, California\n",
      "Sarah Russell | 872818678949175297 | \n",
      "Umoja wa Mataifa | 67706757 | Global\n",
      "Annika Strandhäll | 330178251 | Stockholm\n",
      "WFP DRC | 1430023807 | République Démocratique Congo\n",
      "Marianne Hagen | 932603165781962753 | \n",
      "UNHindi | 1016819170288328704 | New York, NY\n",
      "Narendra Modi | 18839785 | India\n",
      "Tereza Kasaeva | 943377944055107584 | Geneva, Switzerland\n",
      "Aleksandra Kuzmanovic | 497329097 | Geneva, Switzerland\n",
      "RFI Afrique | 1070877486 | Afrique\n",
      "Le Monde | 24744541 | Paris\n",
      "RFI | 32861321 | Paris, France\n",
      "FRANCE 24 Français | 25048816 | Paris, France\n",
      "Born This Way Foundation | 388521369 | \n",
      "Cynthia Germanotta | 32402773 | New York City!\n",
      "ITV News | 21866939 | United Kingdom\n",
      "Marie Claire | 19074134 | \n",
      "ELLE Magazine (US) | 20177423 | \n",
      "jack | 12 | \n",
      "Denmark.dk | 25089686 | Denmark\n",
      "GIZ | 22039274 | Bonn & Eschborn, Germany\n",
      "Government of Malta 🇲🇹 | 3919666337 | Valletta, Malta\n",
      "OPASOMSBrasil | 1009084690333085696 | Brasília, Brasil\n",
      "@SAgovnews | 121211932 | \n",
      "La Moncloa | 58417540 | Madrid (Spain)\n",
      "Ministry of Health, Ghana | 925424453596667904 | Ghana\n",
      "Nana Akufo-Addo | 247217109 | Ghana\n",
      "MOFA | 204238767 | Seoul, Korea\n",
      "Lukasz Szumowski | 802193669503746050 | \n",
      "Naciones Unidas PY | 361350274 | Asunción, Paraguay\n",
      "IASP | 64822455 | Worldwide\n"
     ]
    }
   ],
   "source": [
    "for friend in tweepy.Cursor(api.friends, id=user).items(100):\n",
    "    print(friend.name, '|', friend.id, '|', friend.location)"
   ]
  }
 ],
 "metadata": {
  "kernelspec": {
   "display_name": "Python 3",
   "language": "python",
   "name": "python3"
  },
  "language_info": {
   "codemirror_mode": {
    "name": "ipython",
    "version": 3
   },
   "file_extension": ".py",
   "mimetype": "text/x-python",
   "name": "python",
   "nbconvert_exporter": "python",
   "pygments_lexer": "ipython3",
   "version": "3.7.7"
  }
 },
 "nbformat": 4,
 "nbformat_minor": 2
}
