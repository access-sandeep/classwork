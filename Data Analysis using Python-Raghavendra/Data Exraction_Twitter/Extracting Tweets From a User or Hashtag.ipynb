{
 "cells": [
  {
   "cell_type": "markdown",
   "metadata": {},
   "source": [
    "# Extracting Tweets From a User or Hashtag"
   ]
  },
  {
   "cell_type": "code",
   "execution_count": null,
   "metadata": {},
   "outputs": [],
   "source": [
    "import pandas as pd\n",
    "import tweepy\n",
    "\n",
    "tweepy.__version__"
   ]
  },
  {
   "cell_type": "code",
   "execution_count": null,
   "metadata": {},
   "outputs": [],
   "source": [
    "def get_api():\n",
    "    consumer_key = 'TufHzi954jfLE7O8YHtK2iFx9'\n",
    "    consumer_secret = 'x5QhSUCQfV4QYQd5UfRyVeP8tJSMknEJs07WdOXhTGGh3KdfXx'\n",
    "    access_token = '887731387322650624-UTsVRJN1tnwHuGD8TcZNnKuo0OAf9jj'\n",
    "    access_token_secret = 'YWY6AWChWiz6OUaV6ePDyJKcVna03P1vP2nYVautvfIEZ'\n",
    "    auth = tweepy.OAuthHandler(consumer_key, consumer_secret)\n",
    "    auth.set_access_token(access_token, access_token_secret)\n",
    "\n",
    "    # Access Twitter API\n",
    "    api = tweepy.API(auth, wait_on_rate_limit=True)\n",
    "    return api\n",
    "api = get_api()\n",
    "api"
   ]
  },
  {
   "cell_type": "markdown",
   "metadata": {},
   "source": [
    "### Fetching tweets from a user"
   ]
  },
  {
   "cell_type": "code",
   "execution_count": null,
   "metadata": {},
   "outputs": [],
   "source": [
    "user = 'realDonaldTrump'"
   ]
  },
  {
   "cell_type": "code",
   "execution_count": 5,
   "metadata": {},
   "outputs": [
    {
     "data": {
      "text/plain": [
       "200"
      ]
     },
     "execution_count": 5,
     "metadata": {},
     "output_type": "execute_result"
    }
   ],
   "source": [
    "tweets = api.user_timeline(user, count=200)\n",
    "len(tweets)"
   ]
  },
  {
   "cell_type": "code",
   "execution_count": 6,
   "metadata": {},
   "outputs": [
    {
     "data": {
      "text/plain": [
       "{'created_at': 'Thu Jun 11 03:38:11 +0000 2020',\n",
       " 'id': 1270923257844301836,\n",
       " 'id_str': '1270923257844301836',\n",
       " 'text': 'Domestic Terrorists have taken over Seattle, run by Radical Left Democrats, of course. LAW &amp; ORDER!',\n",
       " 'truncated': False,\n",
       " 'entities': {'hashtags': [], 'symbols': [], 'user_mentions': [], 'urls': []},\n",
       " 'source': '<a href=\"http://twitter.com/download/iphone\" rel=\"nofollow\">Twitter for iPhone</a>',\n",
       " 'in_reply_to_status_id': None,\n",
       " 'in_reply_to_status_id_str': None,\n",
       " 'in_reply_to_user_id': None,\n",
       " 'in_reply_to_user_id_str': None,\n",
       " 'in_reply_to_screen_name': None,\n",
       " 'user': {'id': 25073877,\n",
       "  'id_str': '25073877',\n",
       "  'name': 'Donald J. Trump',\n",
       "  'screen_name': 'realDonaldTrump',\n",
       "  'location': 'Washington, DC',\n",
       "  'description': '45th President of the United States of America🇺🇸',\n",
       "  'url': 'https://t.co/OMxB0x7xC5',\n",
       "  'entities': {'url': {'urls': [{'url': 'https://t.co/OMxB0x7xC5',\n",
       "      'expanded_url': 'http://www.Instagram.com/realDonaldTrump',\n",
       "      'display_url': 'Instagram.com/realDonaldTrump',\n",
       "      'indices': [0, 23]}]},\n",
       "   'description': {'urls': []}},\n",
       "  'protected': False,\n",
       "  'followers_count': 82028581,\n",
       "  'friends_count': 46,\n",
       "  'listed_count': 115151,\n",
       "  'created_at': 'Wed Mar 18 13:46:38 +0000 2009',\n",
       "  'favourites_count': 4,\n",
       "  'utc_offset': None,\n",
       "  'time_zone': None,\n",
       "  'geo_enabled': True,\n",
       "  'verified': True,\n",
       "  'statuses_count': 52774,\n",
       "  'lang': None,\n",
       "  'contributors_enabled': False,\n",
       "  'is_translator': False,\n",
       "  'is_translation_enabled': True,\n",
       "  'profile_background_color': '6D5C18',\n",
       "  'profile_background_image_url': 'http://abs.twimg.com/images/themes/theme1/bg.png',\n",
       "  'profile_background_image_url_https': 'https://abs.twimg.com/images/themes/theme1/bg.png',\n",
       "  'profile_background_tile': True,\n",
       "  'profile_image_url': 'http://pbs.twimg.com/profile_images/874276197357596672/kUuht00m_normal.jpg',\n",
       "  'profile_image_url_https': 'https://pbs.twimg.com/profile_images/874276197357596672/kUuht00m_normal.jpg',\n",
       "  'profile_banner_url': 'https://pbs.twimg.com/profile_banners/25073877/1583212785',\n",
       "  'profile_link_color': '1B95E0',\n",
       "  'profile_sidebar_border_color': 'BDDCAD',\n",
       "  'profile_sidebar_fill_color': 'C5CEC0',\n",
       "  'profile_text_color': '333333',\n",
       "  'profile_use_background_image': True,\n",
       "  'has_extended_profile': False,\n",
       "  'default_profile': False,\n",
       "  'default_profile_image': False,\n",
       "  'following': False,\n",
       "  'follow_request_sent': False,\n",
       "  'notifications': False,\n",
       "  'translator_type': 'regular'},\n",
       " 'geo': None,\n",
       " 'coordinates': None,\n",
       " 'place': None,\n",
       " 'contributors': None,\n",
       " 'is_quote_status': False,\n",
       " 'retweet_count': 34360,\n",
       " 'favorite_count': 142780,\n",
       " 'favorited': False,\n",
       " 'retweeted': False,\n",
       " 'lang': 'en'}"
      ]
     },
     "execution_count": 6,
     "metadata": {},
     "output_type": "execute_result"
    }
   ],
   "source": [
    "tweets[0]._json"
   ]
  },
  {
   "cell_type": "markdown",
   "metadata": {},
   "source": [
    "Tweet object attributes: https://developer.twitter.com/en/docs/tweets/data-dictionary/overview/tweet-object"
   ]
  },
  {
   "cell_type": "code",
   "execution_count": 7,
   "metadata": {},
   "outputs": [
    {
     "name": "stdout",
     "output_type": "stream",
     "text": [
      "Domestic Terrorists have taken over Seattle, run by Radical Left Democrats, of course. LAW &amp; ORDER!\n",
      "34360\n",
      "-----\n",
      "RT @MarshaBlackburn: Decades of failed engagement, Western investment and unfair trade tactics built China into an industrial behemoth, giv…\n",
      "6464\n",
      "-----\n",
      "“Very troubled by Durham probe findings.” A.G. Bill Barr  @BretBaier  @FoxNews\n",
      "18417\n",
      "-----\n"
     ]
    }
   ],
   "source": [
    "for tweet in tweets[:3]:\n",
    "    print(tweet.text)\n",
    "    print(tweet.retweet_count)\n",
    "    print('-----')"
   ]
  },
  {
   "cell_type": "code",
   "execution_count": 8,
   "metadata": {},
   "outputs": [],
   "source": [
    "def extract_user_tweet_info(tweet_object):\n",
    "    row = {\n",
    "        'text': tweet.text,\n",
    "        'created_at': tweet.created_at,\n",
    "        'retweets': tweet.retweet_count,\n",
    "        'likes': tweet.favorite_count,\n",
    "        'language': tweet.lang\n",
    "    }\n",
    "    return row"
   ]
  },
  {
   "cell_type": "code",
   "execution_count": 9,
   "metadata": {},
   "outputs": [
    {
     "name": "stdout",
     "output_type": "stream",
     "text": [
      "(200, 5)\n"
     ]
    },
    {
     "data": {
      "text/html": [
       "<div>\n",
       "<style scoped>\n",
       "    .dataframe tbody tr th:only-of-type {\n",
       "        vertical-align: middle;\n",
       "    }\n",
       "\n",
       "    .dataframe tbody tr th {\n",
       "        vertical-align: top;\n",
       "    }\n",
       "\n",
       "    .dataframe thead th {\n",
       "        text-align: right;\n",
       "    }\n",
       "</style>\n",
       "<table border=\"1\" class=\"dataframe\">\n",
       "  <thead>\n",
       "    <tr style=\"text-align: right;\">\n",
       "      <th></th>\n",
       "      <th>created_at</th>\n",
       "      <th>language</th>\n",
       "      <th>likes</th>\n",
       "      <th>retweets</th>\n",
       "      <th>text</th>\n",
       "    </tr>\n",
       "  </thead>\n",
       "  <tbody>\n",
       "    <tr>\n",
       "      <td>0</td>\n",
       "      <td>2020-06-11 03:38:11</td>\n",
       "      <td>en</td>\n",
       "      <td>142780.0</td>\n",
       "      <td>34360.0</td>\n",
       "      <td>Domestic Terrorists have taken over Seattle, r...</td>\n",
       "    </tr>\n",
       "    <tr>\n",
       "      <td>1</td>\n",
       "      <td>2020-06-11 03:30:48</td>\n",
       "      <td>en</td>\n",
       "      <td>0.0</td>\n",
       "      <td>6464.0</td>\n",
       "      <td>RT @MarshaBlackburn: Decades of failed engagem...</td>\n",
       "    </tr>\n",
       "    <tr>\n",
       "      <td>2</td>\n",
       "      <td>2020-06-11 03:27:22</td>\n",
       "      <td>en</td>\n",
       "      <td>67759.0</td>\n",
       "      <td>18417.0</td>\n",
       "      <td>“Very troubled by Durham probe findings.” A.G....</td>\n",
       "    </tr>\n",
       "    <tr>\n",
       "      <td>3</td>\n",
       "      <td>2020-06-11 03:01:46</td>\n",
       "      <td>en</td>\n",
       "      <td>134446.0</td>\n",
       "      <td>38326.0</td>\n",
       "      <td>Radical Left Governor @JayInslee and the Mayor...</td>\n",
       "    </tr>\n",
       "    <tr>\n",
       "      <td>4</td>\n",
       "      <td>2020-06-11 02:36:23</td>\n",
       "      <td>en</td>\n",
       "      <td>55378.0</td>\n",
       "      <td>12342.0</td>\n",
       "      <td>...And the Trump family didn’t ask the Federal...</td>\n",
       "    </tr>\n",
       "  </tbody>\n",
       "</table>\n",
       "</div>"
      ],
      "text/plain": [
       "           created_at language     likes  retweets  \\\n",
       "0 2020-06-11 03:38:11       en  142780.0   34360.0   \n",
       "1 2020-06-11 03:30:48       en       0.0    6464.0   \n",
       "2 2020-06-11 03:27:22       en   67759.0   18417.0   \n",
       "3 2020-06-11 03:01:46       en  134446.0   38326.0   \n",
       "4 2020-06-11 02:36:23       en   55378.0   12342.0   \n",
       "\n",
       "                                                text  \n",
       "0  Domestic Terrorists have taken over Seattle, r...  \n",
       "1  RT @MarshaBlackburn: Decades of failed engagem...  \n",
       "2  “Very troubled by Durham probe findings.” A.G....  \n",
       "3  Radical Left Governor @JayInslee and the Mayor...  \n",
       "4  ...And the Trump family didn’t ask the Federal...  "
      ]
     },
     "execution_count": 9,
     "metadata": {},
     "output_type": "execute_result"
    }
   ],
   "source": [
    "df = pd.DataFrame()\n",
    "for tweet in tweets:\n",
    "    tweet_info = extract_user_tweet_info(tweet)\n",
    "    df = df.append(tweet_info, ignore_index=True)\n",
    "print(df.shape)\n",
    "df.head()"
   ]
  },
  {
   "cell_type": "code",
   "execution_count": 11,
   "metadata": {},
   "outputs": [
    {
     "name": "stdout",
     "output_type": "stream",
     "text": [
      "(500, 5)\n"
     ]
    },
    {
     "data": {
      "text/html": [
       "<div>\n",
       "<style scoped>\n",
       "    .dataframe tbody tr th:only-of-type {\n",
       "        vertical-align: middle;\n",
       "    }\n",
       "\n",
       "    .dataframe tbody tr th {\n",
       "        vertical-align: top;\n",
       "    }\n",
       "\n",
       "    .dataframe thead th {\n",
       "        text-align: right;\n",
       "    }\n",
       "</style>\n",
       "<table border=\"1\" class=\"dataframe\">\n",
       "  <thead>\n",
       "    <tr style=\"text-align: right;\">\n",
       "      <th></th>\n",
       "      <th>created_at</th>\n",
       "      <th>language</th>\n",
       "      <th>likes</th>\n",
       "      <th>retweets</th>\n",
       "      <th>text</th>\n",
       "    </tr>\n",
       "  </thead>\n",
       "  <tbody>\n",
       "    <tr>\n",
       "      <td>0</td>\n",
       "      <td>2020-06-11 03:38:11</td>\n",
       "      <td>en</td>\n",
       "      <td>144409.0</td>\n",
       "      <td>34734.0</td>\n",
       "      <td>Domestic Terrorists have taken over Seattle, r...</td>\n",
       "    </tr>\n",
       "    <tr>\n",
       "      <td>1</td>\n",
       "      <td>2020-06-11 03:30:48</td>\n",
       "      <td>en</td>\n",
       "      <td>0.0</td>\n",
       "      <td>6530.0</td>\n",
       "      <td>RT @MarshaBlackburn: Decades of failed engagem...</td>\n",
       "    </tr>\n",
       "    <tr>\n",
       "      <td>2</td>\n",
       "      <td>2020-06-11 03:27:22</td>\n",
       "      <td>en</td>\n",
       "      <td>68579.0</td>\n",
       "      <td>18629.0</td>\n",
       "      <td>“Very troubled by Durham probe findings.” A.G....</td>\n",
       "    </tr>\n",
       "    <tr>\n",
       "      <td>3</td>\n",
       "      <td>2020-06-11 03:01:46</td>\n",
       "      <td>en</td>\n",
       "      <td>135769.0</td>\n",
       "      <td>38667.0</td>\n",
       "      <td>Radical Left Governor @JayInslee and the Mayor...</td>\n",
       "    </tr>\n",
       "    <tr>\n",
       "      <td>4</td>\n",
       "      <td>2020-06-11 02:36:23</td>\n",
       "      <td>en</td>\n",
       "      <td>55778.0</td>\n",
       "      <td>12423.0</td>\n",
       "      <td>...And the Trump family didn’t ask the Federal...</td>\n",
       "    </tr>\n",
       "  </tbody>\n",
       "</table>\n",
       "</div>"
      ],
      "text/plain": [
       "           created_at language     likes  retweets  \\\n",
       "0 2020-06-11 03:38:11       en  144409.0   34734.0   \n",
       "1 2020-06-11 03:30:48       en       0.0    6530.0   \n",
       "2 2020-06-11 03:27:22       en   68579.0   18629.0   \n",
       "3 2020-06-11 03:01:46       en  135769.0   38667.0   \n",
       "4 2020-06-11 02:36:23       en   55778.0   12423.0   \n",
       "\n",
       "                                                text  \n",
       "0  Domestic Terrorists have taken over Seattle, r...  \n",
       "1  RT @MarshaBlackburn: Decades of failed engagem...  \n",
       "2  “Very troubled by Durham probe findings.” A.G....  \n",
       "3  Radical Left Governor @JayInslee and the Mayor...  \n",
       "4  ...And the Trump family didn’t ask the Federal...  "
      ]
     },
     "execution_count": 11,
     "metadata": {},
     "output_type": "execute_result"
    }
   ],
   "source": [
    "df_tweets_user = pd.DataFrame()\n",
    "user = 'realDonaldTrump'\n",
    "for tweet in tweepy.Cursor(api.user_timeline, id=user).items(500):\n",
    "    tweet_info = extract_user_tweet_info(tweet)\n",
    "    df_tweets_user = df_tweets_user.append(tweet_info, ignore_index=True)\n",
    "print(df_tweets_user.shape)\n",
    "df_tweets_user.head()"
   ]
  },
  {
   "cell_type": "code",
   "execution_count": null,
   "metadata": {},
   "outputs": [],
   "source": []
  },
  {
   "cell_type": "code",
   "execution_count": null,
   "metadata": {},
   "outputs": [],
   "source": [
    "df_tweets_user.to_csv('tweets_donald_trump.csv', index=False)"
   ]
  },
  {
   "cell_type": "markdown",
   "metadata": {},
   "source": [
    "### Fetch tweets from a Hashtag or Search Term"
   ]
  },
  {
   "cell_type": "code",
   "execution_count": 12,
   "metadata": {},
   "outputs": [],
   "source": [
    "hashtag = '#coronavirus'\n",
    "tweets = api.search(hashtag, count=200)"
   ]
  },
  {
   "cell_type": "code",
   "execution_count": 13,
   "metadata": {},
   "outputs": [],
   "source": [
    "def extract_search_tweet_info(tweet_object):\n",
    "    row = {\n",
    "        'text': tweet.text,\n",
    "        'created_at': tweet.created_at,\n",
    "        'retweets': tweet.retweet_count,\n",
    "        'likes': tweet.favorite_count,\n",
    "        'language': tweet.lang,\n",
    "        # User's information\n",
    "        'user': tweet.user.name,\n",
    "        'userid': tweet.user.id,\n",
    "        'user_description': tweet.user.description,\n",
    "        'user_location': tweet.user.location\n",
    "    }\n",
    "    return row"
   ]
  },
  {
   "cell_type": "code",
   "execution_count": 14,
   "metadata": {},
   "outputs": [
    {
     "name": "stdout",
     "output_type": "stream",
     "text": [
      "(200, 5)\n"
     ]
    },
    {
     "data": {
      "text/html": [
       "<div>\n",
       "<style scoped>\n",
       "    .dataframe tbody tr th:only-of-type {\n",
       "        vertical-align: middle;\n",
       "    }\n",
       "\n",
       "    .dataframe tbody tr th {\n",
       "        vertical-align: top;\n",
       "    }\n",
       "\n",
       "    .dataframe thead th {\n",
       "        text-align: right;\n",
       "    }\n",
       "</style>\n",
       "<table border=\"1\" class=\"dataframe\">\n",
       "  <thead>\n",
       "    <tr style=\"text-align: right;\">\n",
       "      <th></th>\n",
       "      <th>created_at</th>\n",
       "      <th>language</th>\n",
       "      <th>likes</th>\n",
       "      <th>retweets</th>\n",
       "      <th>text</th>\n",
       "      <th>user</th>\n",
       "      <th>user_description</th>\n",
       "      <th>user_location</th>\n",
       "      <th>userid</th>\n",
       "    </tr>\n",
       "  </thead>\n",
       "  <tbody>\n",
       "    <tr>\n",
       "      <td>0</td>\n",
       "      <td>2020-06-11 11:54:46</td>\n",
       "      <td>es</td>\n",
       "      <td>0.0</td>\n",
       "      <td>0.0</td>\n",
       "      <td>#AHORA | Jaime Delgado, ex presidente de la Co...</td>\n",
       "      <td>Exitosa Noticias</td>\n",
       "      <td>La plataforma de medios informativos más grand...</td>\n",
       "      <td>Lima, Peru</td>\n",
       "      <td>2.205328e+09</td>\n",
       "    </tr>\n",
       "    <tr>\n",
       "      <td>1</td>\n",
       "      <td>2020-06-11 11:54:46</td>\n",
       "      <td>en</td>\n",
       "      <td>0.0</td>\n",
       "      <td>1.0</td>\n",
       "      <td>RT @Itsexceptional1: Covid-19 Data Analysis 📊 ...</td>\n",
       "      <td>RockinFreelance</td>\n",
       "      <td>We share ideas and resources for Freelancers w...</td>\n",
       "      <td></td>\n",
       "      <td>8.495312e+17</td>\n",
       "    </tr>\n",
       "    <tr>\n",
       "      <td>2</td>\n",
       "      <td>2020-06-11 11:54:46</td>\n",
       "      <td>en</td>\n",
       "      <td>0.0</td>\n",
       "      <td>213.0</td>\n",
       "      <td>RT @CityOfBoston: A research study published M...</td>\n",
       "      <td>danaresists</td>\n",
       "      <td>Never really interested in the daily political...</td>\n",
       "      <td>Williamston, MI</td>\n",
       "      <td>2.914080e+09</td>\n",
       "    </tr>\n",
       "    <tr>\n",
       "      <td>3</td>\n",
       "      <td>2020-06-11 11:54:45</td>\n",
       "      <td>es</td>\n",
       "      <td>0.0</td>\n",
       "      <td>150.0</td>\n",
       "      <td>RT @RutaKritica: El \"Primer Mandatario\" @Lenin...</td>\n",
       "      <td>Milton Calle Ulloa</td>\n",
       "      <td>Correista 100%, pensamiento de izquierda, revo...</td>\n",
       "      <td></td>\n",
       "      <td>9.218964e+17</td>\n",
       "    </tr>\n",
       "    <tr>\n",
       "      <td>4</td>\n",
       "      <td>2020-06-11 11:54:45</td>\n",
       "      <td>hi</td>\n",
       "      <td>0.0</td>\n",
       "      <td>11.0</td>\n",
       "      <td>RT @ABPNews: देश में कोरोना का कम्यूनिटी ट्रां...</td>\n",
       "      <td>GAGAN JOSHI</td>\n",
       "      <td>देश हित में जितना भी संभव होगा वो करेंगे।हम सर...</td>\n",
       "      <td>Indore, India</td>\n",
       "      <td>1.162670e+18</td>\n",
       "    </tr>\n",
       "  </tbody>\n",
       "</table>\n",
       "</div>"
      ],
      "text/plain": [
       "           created_at language  likes  retweets  \\\n",
       "0 2020-06-11 11:54:46       es    0.0       0.0   \n",
       "1 2020-06-11 11:54:46       en    0.0       1.0   \n",
       "2 2020-06-11 11:54:46       en    0.0     213.0   \n",
       "3 2020-06-11 11:54:45       es    0.0     150.0   \n",
       "4 2020-06-11 11:54:45       hi    0.0      11.0   \n",
       "\n",
       "                                                text                user  \\\n",
       "0  #AHORA | Jaime Delgado, ex presidente de la Co...    Exitosa Noticias   \n",
       "1  RT @Itsexceptional1: Covid-19 Data Analysis 📊 ...     RockinFreelance   \n",
       "2  RT @CityOfBoston: A research study published M...         danaresists   \n",
       "3  RT @RutaKritica: El \"Primer Mandatario\" @Lenin...  Milton Calle Ulloa   \n",
       "4  RT @ABPNews: देश में कोरोना का कम्यूनिटी ट्रां...         GAGAN JOSHI   \n",
       "\n",
       "                                    user_description    user_location  \\\n",
       "0  La plataforma de medios informativos más grand...       Lima, Peru   \n",
       "1  We share ideas and resources for Freelancers w...                    \n",
       "2  Never really interested in the daily political...  Williamston, MI   \n",
       "3  Correista 100%, pensamiento de izquierda, revo...                    \n",
       "4  देश हित में जितना भी संभव होगा वो करेंगे।हम सर...    Indore, India   \n",
       "\n",
       "         userid  \n",
       "0  2.205328e+09  \n",
       "1  8.495312e+17  \n",
       "2  2.914080e+09  \n",
       "3  9.218964e+17  \n",
       "4  1.162670e+18  "
      ]
     },
     "execution_count": 14,
     "metadata": {},
     "output_type": "execute_result"
    }
   ],
   "source": [
    "df_search = pd.DataFrame()\n",
    "for tweet in tweets:\n",
    "    tweet_info = extract_search_tweet_info(tweet)\n",
    "    df_search = df_search.append(tweet_info, ignore_index=True)\n",
    "print(df.shape)\n",
    "df_search.head()"
   ]
  },
  {
   "cell_type": "code",
   "execution_count": 15,
   "metadata": {},
   "outputs": [
    {
     "name": "stdout",
     "output_type": "stream",
     "text": [
      "(500, 9)\n"
     ]
    },
    {
     "data": {
      "text/html": [
       "<div>\n",
       "<style scoped>\n",
       "    .dataframe tbody tr th:only-of-type {\n",
       "        vertical-align: middle;\n",
       "    }\n",
       "\n",
       "    .dataframe tbody tr th {\n",
       "        vertical-align: top;\n",
       "    }\n",
       "\n",
       "    .dataframe thead th {\n",
       "        text-align: right;\n",
       "    }\n",
       "</style>\n",
       "<table border=\"1\" class=\"dataframe\">\n",
       "  <thead>\n",
       "    <tr style=\"text-align: right;\">\n",
       "      <th></th>\n",
       "      <th>created_at</th>\n",
       "      <th>language</th>\n",
       "      <th>likes</th>\n",
       "      <th>retweets</th>\n",
       "      <th>text</th>\n",
       "      <th>user</th>\n",
       "      <th>user_description</th>\n",
       "      <th>user_location</th>\n",
       "      <th>userid</th>\n",
       "    </tr>\n",
       "  </thead>\n",
       "  <tbody>\n",
       "    <tr>\n",
       "      <td>0</td>\n",
       "      <td>2020-06-11 11:56:05</td>\n",
       "      <td>en</td>\n",
       "      <td>0.0</td>\n",
       "      <td>3.0</td>\n",
       "      <td>RT @LesaRobertson20: So Trump is coming to Dal...</td>\n",
       "      <td>Linda Quest</td>\n",
       "      <td>Angry liberal Democrat, veteran,\\nanimal lover...</td>\n",
       "      <td>Living blue in Mississippi</td>\n",
       "      <td>8.106391e+17</td>\n",
       "    </tr>\n",
       "    <tr>\n",
       "      <td>1</td>\n",
       "      <td>2020-06-11 11:56:04</td>\n",
       "      <td>en</td>\n",
       "      <td>0.0</td>\n",
       "      <td>165.0</td>\n",
       "      <td>RT @juliettekayyem: This is still the first wa...</td>\n",
       "      <td>mcarey</td>\n",
       "      <td>friend to all cats and dogs.</td>\n",
       "      <td></td>\n",
       "      <td>6.970700e+07</td>\n",
       "    </tr>\n",
       "    <tr>\n",
       "      <td>2</td>\n",
       "      <td>2020-06-11 11:56:03</td>\n",
       "      <td>es</td>\n",
       "      <td>0.0</td>\n",
       "      <td>10.0</td>\n",
       "      <td>RT @FabinDenis2: #coronavirus \\n\\nContinuamos ...</td>\n",
       "      <td>paola</td>\n",
       "      <td></td>\n",
       "      <td></td>\n",
       "      <td>3.050742e+09</td>\n",
       "    </tr>\n",
       "    <tr>\n",
       "      <td>3</td>\n",
       "      <td>2020-06-11 11:56:03</td>\n",
       "      <td>en</td>\n",
       "      <td>0.0</td>\n",
       "      <td>3.0</td>\n",
       "      <td>RT @TLA_CEE: Are you a digital #expert looking...</td>\n",
       "      <td>Cumhur KIZILARI</td>\n",
       "      <td>@techUK Skills &amp; Diversity Council, Volunteer ...</td>\n",
       "      <td>Richmond, London</td>\n",
       "      <td>3.027975e+08</td>\n",
       "    </tr>\n",
       "    <tr>\n",
       "      <td>4</td>\n",
       "      <td>2020-06-11 11:56:02</td>\n",
       "      <td>es</td>\n",
       "      <td>0.0</td>\n",
       "      <td>0.0</td>\n",
       "      <td>#Ecuador en emergencia y con un pésimo gobiern...</td>\n",
       "      <td>Ecuador Anarquia Mrcnry</td>\n",
       "      <td>Muerte a los traidores\\nAtento para destruir a...</td>\n",
       "      <td>Franc</td>\n",
       "      <td>1.129014e+18</td>\n",
       "    </tr>\n",
       "  </tbody>\n",
       "</table>\n",
       "</div>"
      ],
      "text/plain": [
       "           created_at language  likes  retweets  \\\n",
       "0 2020-06-11 11:56:05       en    0.0       3.0   \n",
       "1 2020-06-11 11:56:04       en    0.0     165.0   \n",
       "2 2020-06-11 11:56:03       es    0.0      10.0   \n",
       "3 2020-06-11 11:56:03       en    0.0       3.0   \n",
       "4 2020-06-11 11:56:02       es    0.0       0.0   \n",
       "\n",
       "                                                text                     user  \\\n",
       "0  RT @LesaRobertson20: So Trump is coming to Dal...              Linda Quest   \n",
       "1  RT @juliettekayyem: This is still the first wa...                   mcarey   \n",
       "2  RT @FabinDenis2: #coronavirus \\n\\nContinuamos ...                    paola   \n",
       "3  RT @TLA_CEE: Are you a digital #expert looking...          Cumhur KIZILARI   \n",
       "4  #Ecuador en emergencia y con un pésimo gobiern...  Ecuador Anarquia Mrcnry   \n",
       "\n",
       "                                    user_description  \\\n",
       "0  Angry liberal Democrat, veteran,\\nanimal lover...   \n",
       "1                       friend to all cats and dogs.   \n",
       "2                                                      \n",
       "3  @techUK Skills & Diversity Council, Volunteer ...   \n",
       "4  Muerte a los traidores\\nAtento para destruir a...   \n",
       "\n",
       "                 user_location        userid  \n",
       "0  Living blue in Mississippi   8.106391e+17  \n",
       "1                               6.970700e+07  \n",
       "2                               3.050742e+09  \n",
       "3             Richmond, London  3.027975e+08  \n",
       "4                        Franc  1.129014e+18  "
      ]
     },
     "execution_count": 15,
     "metadata": {},
     "output_type": "execute_result"
    }
   ],
   "source": [
    "df_tweets_search = pd.DataFrame()\n",
    "for tweet in tweepy.Cursor(api.search, hashtag).items(500):\n",
    "    tweet_info = extract_search_tweet_info(tweet)\n",
    "    df_tweets_search = df_tweets_search.append(tweet_info, ignore_index=True)\n",
    "print(df_tweets_search.shape)\n",
    "df_tweets_search.head()"
   ]
  },
  {
   "cell_type": "code",
   "execution_count": null,
   "metadata": {},
   "outputs": [],
   "source": [
    "print(df_tweets_search.shape)"
   ]
  },
  {
   "cell_type": "code",
   "execution_count": 16,
   "metadata": {},
   "outputs": [],
   "source": [
    "df_tweets_search.to_csv('tweets_coronovirus.csv', index=False)"
   ]
  }
 ],
 "metadata": {
  "kernelspec": {
   "display_name": "Python 3",
   "language": "python",
   "name": "python3"
  },
  "language_info": {
   "codemirror_mode": {
    "name": "ipython",
    "version": 3
   },
   "file_extension": ".py",
   "mimetype": "text/x-python",
   "name": "python",
   "nbconvert_exporter": "python",
   "pygments_lexer": "ipython3",
   "version": "3.7.4"
  }
 },
 "nbformat": 4,
 "nbformat_minor": 2
}
