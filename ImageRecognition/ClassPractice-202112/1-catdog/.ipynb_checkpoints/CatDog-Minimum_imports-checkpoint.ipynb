{
 "cells": [
  {
   "cell_type": "markdown",
   "metadata": {},
   "source": [
    "## Cat/Dog Binary Classification"
   ]
  },
  {
   "cell_type": "code",
   "execution_count": 1,
   "metadata": {},
   "outputs": [],
   "source": [
    "from tensorflow.keras.models import Sequential\n",
    "from tensorflow.keras.layers import Flatten, Dense, Conv2D, MaxPooling2D\n",
    "\n",
    "from tensorflow.keras.preprocessing.image import ImageDataGenerator\n",
    "from tensorflow.keras.preprocessing import image"
   ]
  },
  {
   "cell_type": "code",
   "execution_count": 2,
   "metadata": {},
   "outputs": [
    {
     "name": "stderr",
     "output_type": "stream",
     "text": [
      "2021-11-28 17:47:21.779814: I tensorflow/core/platform/cpu_feature_guard.cc:142] This TensorFlow binary is optimized with oneAPI Deep Neural Network Library (oneDNN) to use the following CPU instructions in performance-critical operations:  AVX2 FMA\n",
      "To enable them in other operations, rebuild TensorFlow with the appropriate compiler flags.\n"
     ]
    }
   ],
   "source": [
    "## Initialising the CNN\n",
    "classifier = Sequential()"
   ]
  },
  {
   "cell_type": "code",
   "execution_count": 3,
   "metadata": {},
   "outputs": [],
   "source": [
    "## Add First layer: Layer 1\n",
    "classifier.add(Conv2D(filters = 64, kernel_size = (3,3), input_shape = (64,64,3), activation = 'relu')) ## Convolution Layer\n",
    "classifier.add(MaxPooling2D(pool_size = (2,2))) ## MaxPooling\n",
    "\n",
    "## Add Second layer: Layer 2\n",
    "classifier.add(Conv2D(filters = 64, kernel_size = (3,3), activation = 'relu')) ## Convolution Layer\n",
    "classifier.add(MaxPooling2D(pool_size = (2,2))) ## MaxPooling\n",
    "\n",
    "## Add Third layer: Layer 3\n",
    "classifier.add(Conv2D(filters = 64, kernel_size = (3,3), activation = 'relu')) ## Convolution Layer\n",
    "classifier.add(MaxPooling2D(pool_size = (2,2))) ## MaxPooling"
   ]
  },
  {
   "cell_type": "code",
   "execution_count": 4,
   "metadata": {},
   "outputs": [],
   "source": [
    "## Flattening is required as Dense Layers only accept one dimention inputs\n",
    "classifier.add(Flatten())"
   ]
  },
  {
   "cell_type": "code",
   "execution_count": 5,
   "metadata": {},
   "outputs": [],
   "source": [
    "## Fully connected ANN, Hidden ANN and output layer\n",
    "classifier.add(Dense(units = 128, activation = 'relu'))"
   ]
  },
  {
   "cell_type": "code",
   "execution_count": 6,
   "metadata": {},
   "outputs": [],
   "source": [
    "# Output layer. Sigmoid is used as the activation function for the two possible classes\n",
    "classifier.add(Dense(units = 1, activation = 'sigmoid'))"
   ]
  },
  {
   "cell_type": "code",
   "execution_count": 7,
   "metadata": {},
   "outputs": [],
   "source": [
    "## Compliling\n",
    "classifier.compile(optimizer = 'adam', loss = 'binary_crossentropy', metrics = ['accuracy'])"
   ]
  },
  {
   "cell_type": "code",
   "execution_count": 8,
   "metadata": {},
   "outputs": [
    {
     "name": "stdout",
     "output_type": "stream",
     "text": [
      "Model: \"sequential\"\n",
      "_________________________________________________________________\n",
      "Layer (type)                 Output Shape              Param #   \n",
      "=================================================================\n",
      "conv2d (Conv2D)              (None, 62, 62, 64)        1792      \n",
      "_________________________________________________________________\n",
      "max_pooling2d (MaxPooling2D) (None, 31, 31, 64)        0         \n",
      "_________________________________________________________________\n",
      "conv2d_1 (Conv2D)            (None, 29, 29, 64)        36928     \n",
      "_________________________________________________________________\n",
      "max_pooling2d_1 (MaxPooling2 (None, 14, 14, 64)        0         \n",
      "_________________________________________________________________\n",
      "conv2d_2 (Conv2D)            (None, 12, 12, 64)        36928     \n",
      "_________________________________________________________________\n",
      "max_pooling2d_2 (MaxPooling2 (None, 6, 6, 64)          0         \n",
      "_________________________________________________________________\n",
      "flatten (Flatten)            (None, 2304)              0         \n",
      "_________________________________________________________________\n",
      "dense (Dense)                (None, 128)               295040    \n",
      "_________________________________________________________________\n",
      "dense_1 (Dense)              (None, 1)                 129       \n",
      "=================================================================\n",
      "Total params: 370,817\n",
      "Trainable params: 370,817\n",
      "Non-trainable params: 0\n",
      "_________________________________________________________________\n"
     ]
    }
   ],
   "source": [
    "classifier.summary()"
   ]
  },
  {
   "cell_type": "code",
   "execution_count": 9,
   "metadata": {},
   "outputs": [],
   "source": [
    "## data importing  scaling\n",
    "datagen = ImageDataGenerator(rescale=1./255)"
   ]
  },
  {
   "cell_type": "code",
   "execution_count": 10,
   "metadata": {},
   "outputs": [
    {
     "name": "stdout",
     "output_type": "stream",
     "text": [
      "Found 98 images belonging to 2 classes.\n"
     ]
    }
   ],
   "source": [
    "## Importing training data from the ./dataset/training/ folder\n",
    "train_set = datagen.flow_from_directory(directory = 'dataset/training', target_size = (64, 64), class_mode = 'binary')"
   ]
  },
  {
   "cell_type": "code",
   "execution_count": 11,
   "metadata": {},
   "outputs": [
    {
     "data": {
      "text/plain": [
       "{'cats': 0, 'dogs': 1}"
      ]
     },
     "execution_count": 11,
     "metadata": {},
     "output_type": "execute_result"
    }
   ],
   "source": [
    "train_set.class_indices"
   ]
  },
  {
   "cell_type": "markdown",
   "metadata": {},
   "source": [
    "#which is cat which is dog?\n",
    "label_map = (train_set.class_indices)\n",
    "print(label_map)"
   ]
  },
  {
   "cell_type": "code",
   "execution_count": 12,
   "metadata": {},
   "outputs": [
    {
     "name": "stdout",
     "output_type": "stream",
     "text": [
      "Found 38 images belonging to 2 classes.\n"
     ]
    }
   ],
   "source": [
    "## Importing test data from the ./dataset/test/ folder\n",
    "test_set = datagen.flow_from_directory(directory='dataset/test', target_size=(64, 64), class_mode='binary')"
   ]
  },
  {
   "cell_type": "code",
   "execution_count": 13,
   "metadata": {},
   "outputs": [
    {
     "name": "stderr",
     "output_type": "stream",
     "text": [
      "2021-11-28 17:47:23.562163: I tensorflow/compiler/mlir/mlir_graph_optimization_pass.cc:185] None of the MLIR Optimization Passes are enabled (registered 2)\n"
     ]
    },
    {
     "name": "stdout",
     "output_type": "stream",
     "text": [
      "Epoch 1/50\n",
      "4/4 [==============================] - 2s 467ms/step - loss: 0.6961 - accuracy: 0.4694 - val_loss: 0.6913 - val_accuracy: 0.5526\n",
      "Epoch 2/50\n",
      "4/4 [==============================] - 1s 256ms/step - loss: 0.6842 - accuracy: 0.5612 - val_loss: 0.7142 - val_accuracy: 0.5000\n",
      "Epoch 3/50\n",
      "4/4 [==============================] - 1s 282ms/step - loss: 0.7334 - accuracy: 0.4082 - val_loss: 0.6982 - val_accuracy: 0.5000\n",
      "Epoch 4/50\n",
      "4/4 [==============================] - 1s 309ms/step - loss: 0.6805 - accuracy: 0.5510 - val_loss: 0.6894 - val_accuracy: 0.6053\n",
      "Epoch 5/50\n",
      "4/4 [==============================] - 1s 274ms/step - loss: 0.6786 - accuracy: 0.7857 - val_loss: 0.6908 - val_accuracy: 0.5000\n",
      "Epoch 6/50\n",
      "4/4 [==============================] - 1s 352ms/step - loss: 0.6896 - accuracy: 0.5102 - val_loss: 0.6928 - val_accuracy: 0.5000\n",
      "Epoch 7/50\n",
      "4/4 [==============================] - 1s 282ms/step - loss: 0.6730 - accuracy: 0.5204 - val_loss: 0.6862 - val_accuracy: 0.6053\n",
      "Epoch 8/50\n",
      "4/4 [==============================] - 1s 344ms/step - loss: 0.6774 - accuracy: 0.5714 - val_loss: 0.6988 - val_accuracy: 0.5263\n",
      "Epoch 9/50\n",
      "4/4 [==============================] - 1s 301ms/step - loss: 0.6620 - accuracy: 0.5918 - val_loss: 0.6737 - val_accuracy: 0.5526\n",
      "Epoch 10/50\n",
      "4/4 [==============================] - 1s 247ms/step - loss: 0.7064 - accuracy: 0.5408 - val_loss: 0.6939 - val_accuracy: 0.5526\n",
      "Epoch 11/50\n",
      "4/4 [==============================] - 1s 250ms/step - loss: 0.5829 - accuracy: 0.6735 - val_loss: 0.8419 - val_accuracy: 0.5526\n",
      "Epoch 12/50\n",
      "4/4 [==============================] - 1s 266ms/step - loss: 0.6426 - accuracy: 0.6327 - val_loss: 0.6836 - val_accuracy: 0.6053\n",
      "Epoch 13/50\n",
      "4/4 [==============================] - 1s 303ms/step - loss: 0.5848 - accuracy: 0.7653 - val_loss: 0.6507 - val_accuracy: 0.4474\n",
      "Epoch 14/50\n",
      "4/4 [==============================] - 1s 250ms/step - loss: 0.5582 - accuracy: 0.6735 - val_loss: 0.6593 - val_accuracy: 0.6053\n",
      "Epoch 15/50\n",
      "4/4 [==============================] - 1s 315ms/step - loss: 0.4817 - accuracy: 0.8469 - val_loss: 0.7185 - val_accuracy: 0.6316\n",
      "Epoch 16/50\n",
      "4/4 [==============================] - 1s 255ms/step - loss: 0.4738 - accuracy: 0.7449 - val_loss: 0.7958 - val_accuracy: 0.6053\n",
      "Epoch 17/50\n",
      "4/4 [==============================] - 1s 253ms/step - loss: 0.4232 - accuracy: 0.8061 - val_loss: 0.7861 - val_accuracy: 0.6053\n",
      "Epoch 18/50\n",
      "4/4 [==============================] - 1s 273ms/step - loss: 0.3659 - accuracy: 0.8571 - val_loss: 0.7054 - val_accuracy: 0.6053\n",
      "Epoch 19/50\n",
      "4/4 [==============================] - 1s 237ms/step - loss: 0.3693 - accuracy: 0.8469 - val_loss: 0.6099 - val_accuracy: 0.6053\n",
      "Epoch 20/50\n",
      "4/4 [==============================] - 1s 229ms/step - loss: 0.3461 - accuracy: 0.8265 - val_loss: 0.7010 - val_accuracy: 0.6579\n",
      "Epoch 21/50\n",
      "4/4 [==============================] - 1s 327ms/step - loss: 0.3981 - accuracy: 0.8265 - val_loss: 0.7448 - val_accuracy: 0.5789\n",
      "Epoch 22/50\n",
      "4/4 [==============================] - 1s 272ms/step - loss: 0.2648 - accuracy: 0.8673 - val_loss: 0.7702 - val_accuracy: 0.6053\n",
      "Epoch 23/50\n",
      "4/4 [==============================] - 1s 365ms/step - loss: 0.1963 - accuracy: 0.9286 - val_loss: 0.8289 - val_accuracy: 0.7368\n",
      "Epoch 24/50\n",
      "4/4 [==============================] - 1s 263ms/step - loss: 0.1425 - accuracy: 0.9490 - val_loss: 1.0187 - val_accuracy: 0.6053\n",
      "Epoch 25/50\n",
      "4/4 [==============================] - 1s 296ms/step - loss: 0.1171 - accuracy: 0.9694 - val_loss: 1.2395 - val_accuracy: 0.5526\n",
      "Epoch 26/50\n",
      "4/4 [==============================] - 1s 236ms/step - loss: 0.1011 - accuracy: 0.9694 - val_loss: 1.7515 - val_accuracy: 0.5789\n",
      "Epoch 27/50\n",
      "4/4 [==============================] - 1s 323ms/step - loss: 0.4969 - accuracy: 0.8367 - val_loss: 2.2071 - val_accuracy: 0.5526\n",
      "Epoch 28/50\n",
      "4/4 [==============================] - 1s 270ms/step - loss: 0.2826 - accuracy: 0.8571 - val_loss: 1.1197 - val_accuracy: 0.5263\n",
      "Epoch 29/50\n",
      "4/4 [==============================] - 1s 412ms/step - loss: 0.1722 - accuracy: 0.9796 - val_loss: 0.9015 - val_accuracy: 0.6579\n",
      "Epoch 30/50\n",
      "4/4 [==============================] - 1s 378ms/step - loss: 0.1584 - accuracy: 1.0000 - val_loss: 0.9758 - val_accuracy: 0.5789\n",
      "Epoch 31/50\n",
      "4/4 [==============================] - 1s 258ms/step - loss: 0.1178 - accuracy: 0.9898 - val_loss: 1.1561 - val_accuracy: 0.6579\n",
      "Epoch 32/50\n",
      "4/4 [==============================] - 1s 248ms/step - loss: 0.1069 - accuracy: 0.9490 - val_loss: 1.6645 - val_accuracy: 0.5263\n",
      "Epoch 33/50\n",
      "4/4 [==============================] - 1s 302ms/step - loss: 0.0952 - accuracy: 0.9388 - val_loss: 1.9728 - val_accuracy: 0.5263\n",
      "Epoch 34/50\n",
      "4/4 [==============================] - 1s 347ms/step - loss: 0.0390 - accuracy: 1.0000 - val_loss: 2.1870 - val_accuracy: 0.5000\n",
      "Epoch 35/50\n",
      "4/4 [==============================] - 1s 244ms/step - loss: 0.0266 - accuracy: 1.0000 - val_loss: 2.1766 - val_accuracy: 0.5263\n",
      "Epoch 36/50\n",
      "4/4 [==============================] - 1s 290ms/step - loss: 0.0244 - accuracy: 1.0000 - val_loss: 2.3371 - val_accuracy: 0.5526\n",
      "Epoch 37/50\n",
      "4/4 [==============================] - 1s 359ms/step - loss: 0.0153 - accuracy: 1.0000 - val_loss: 2.5803 - val_accuracy: 0.5263\n",
      "Epoch 38/50\n",
      "4/4 [==============================] - 1s 405ms/step - loss: 0.0165 - accuracy: 1.0000 - val_loss: 2.6468 - val_accuracy: 0.5263\n",
      "Epoch 39/50\n",
      "4/4 [==============================] - 1s 234ms/step - loss: 0.0088 - accuracy: 1.0000 - val_loss: 2.6475 - val_accuracy: 0.5526\n",
      "Epoch 40/50\n",
      "4/4 [==============================] - 1s 280ms/step - loss: 0.0094 - accuracy: 1.0000 - val_loss: 2.8126 - val_accuracy: 0.5526\n",
      "Epoch 41/50\n",
      "4/4 [==============================] - 1s 292ms/step - loss: 0.0057 - accuracy: 1.0000 - val_loss: 3.0081 - val_accuracy: 0.5263\n",
      "Epoch 42/50\n",
      "4/4 [==============================] - 1s 270ms/step - loss: 0.0066 - accuracy: 1.0000 - val_loss: 3.0886 - val_accuracy: 0.5263\n",
      "Epoch 43/50\n",
      "4/4 [==============================] - 1s 392ms/step - loss: 0.0040 - accuracy: 1.0000 - val_loss: 3.1044 - val_accuracy: 0.5526\n",
      "Epoch 44/50\n",
      "4/4 [==============================] - 1s 291ms/step - loss: 0.0032 - accuracy: 1.0000 - val_loss: 3.1440 - val_accuracy: 0.5263\n",
      "Epoch 45/50\n",
      "4/4 [==============================] - 1s 261ms/step - loss: 0.0030 - accuracy: 1.0000 - val_loss: 3.2105 - val_accuracy: 0.5263\n",
      "Epoch 46/50\n",
      "4/4 [==============================] - 2s 524ms/step - loss: 0.0027 - accuracy: 1.0000 - val_loss: 3.2589 - val_accuracy: 0.5263\n",
      "Epoch 47/50\n",
      "4/4 [==============================] - 1s 289ms/step - loss: 0.0024 - accuracy: 1.0000 - val_loss: 3.3230 - val_accuracy: 0.5263\n",
      "Epoch 48/50\n",
      "4/4 [==============================] - 1s 355ms/step - loss: 0.0021 - accuracy: 1.0000 - val_loss: 3.3762 - val_accuracy: 0.5526\n",
      "Epoch 49/50\n",
      "4/4 [==============================] - 1s 316ms/step - loss: 0.0019 - accuracy: 1.0000 - val_loss: 3.4126 - val_accuracy: 0.5526\n",
      "Epoch 50/50\n",
      "4/4 [==============================] - 1s 300ms/step - loss: 0.0018 - accuracy: 1.0000 - val_loss: 3.4372 - val_accuracy: 0.5263\n"
     ]
    },
    {
     "data": {
      "text/plain": [
       "<keras.callbacks.History at 0x7feedbe736d0>"
      ]
     },
     "execution_count": 13,
     "metadata": {},
     "output_type": "execute_result"
    }
   ],
   "source": [
    "## fitting model to images\n",
    "classifier.fit(x=train_set, validation_data=test_set, epochs=50)"
   ]
  },
  {
   "cell_type": "code",
   "execution_count": 14,
   "metadata": {},
   "outputs": [],
   "source": [
    "#save the model for the future use.\n",
    "classifier.save('catdogmodel_minimum_imports.h5')"
   ]
  },
  {
   "cell_type": "code",
   "execution_count": 15,
   "metadata": {},
   "outputs": [],
   "source": [
    "## prediction of single new data\n",
    "test_image = image.load_img('dataset/inference/dog1.jpg' ,target_size =(64,64))"
   ]
  },
  {
   "cell_type": "code",
   "execution_count": 16,
   "metadata": {},
   "outputs": [
    {
     "data": {
      "image/png": "[encoded data removed]",
      "text/plain": [
       "<PIL.Image.Image image mode=RGB size=64x64 at 0x7FEED554ACA0>"
      ]
     },
     "execution_count": 16,
     "metadata": {},
     "output_type": "execute_result"
    }
   ],
   "source": [
    "test_image"
   ]
  },
  {
   "cell_type": "code",
   "execution_count": 17,
   "metadata": {},
   "outputs": [],
   "source": [
    "## Convert image to array\n",
    "test_image = image.img_to_array(test_image)"
   ]
  },
  {
   "cell_type": "code",
   "execution_count": 18,
   "metadata": {},
   "outputs": [],
   "source": [
    "## For single prediction change the dimension as the model takes 4 dimention inputs only. \n",
    "test_image=test_image.reshape(1,64,64,3)"
   ]
  },
  {
   "cell_type": "code",
   "execution_count": 19,
   "metadata": {},
   "outputs": [],
   "source": [
    "result = classifier.predict(test_image)"
   ]
  },
  {
   "cell_type": "code",
   "execution_count": 20,
   "metadata": {},
   "outputs": [
    {
     "data": {
      "text/plain": [
       "array([[1.]], dtype=float32)"
      ]
     },
     "execution_count": 20,
     "metadata": {},
     "output_type": "execute_result"
    }
   ],
   "source": [
    "result"
   ]
  },
  {
   "cell_type": "code",
   "execution_count": 21,
   "metadata": {},
   "outputs": [],
   "source": [
    "import numpy as np"
   ]
  },
  {
   "cell_type": "code",
   "execution_count": 27,
   "metadata": {},
   "outputs": [],
   "source": [
    "result = np.around(result)\n",
    "result_decoding = ['Cat', 'Dog']\n",
    "prediction = result_decoding[int(result[0][0])]"
   ]
  },
  {
   "cell_type": "code",
   "execution_count": 29,
   "metadata": {},
   "outputs": [
    {
     "name": "stdout",
     "output_type": "stream",
     "text": [
      "The selected image is the image of a Dog\n"
     ]
    }
   ],
   "source": [
    "print(\"The selected image is the image of a %s \"% prediction)"
   ]
  },
  {
   "cell_type": "code",
   "execution_count": 31,
   "metadata": {},
   "outputs": [],
   "source": [
    "?ImageDataGenerator"
   ]
  },
  {
   "cell_type": "code",
   "execution_count": null,
   "metadata": {},
   "outputs": [],
   "source": []
  }
 ],
 "metadata": {
  "kernelspec": {
   "display_name": "Python 3 (ipykernel)",
   "language": "python",
   "name": "python3"
  },
  "language_info": {
   "codemirror_mode": {
    "name": "ipython",
    "version": 3
   },
   "file_extension": ".py",
   "mimetype": "text/x-python",
   "name": "python",
   "nbconvert_exporter": "python",
   "pygments_lexer": "ipython3",
   "version": "3.8.8"
  }
 },
 "nbformat": 4,
 "nbformat_minor": 2
}
