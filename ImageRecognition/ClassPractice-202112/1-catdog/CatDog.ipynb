{
 "cells": [
  {
   "cell_type": "markdown",
   "metadata": {},
   "source": [
    "## Cat/Dog Binary Classification"
   ]
  },
  {
   "cell_type": "code",
   "execution_count": 1,
   "metadata": {},
   "outputs": [],
   "source": [
    "from tensorflow.keras.models import Sequential\n",
    "from tensorflow.keras.layers import Activation, Dropout, Flatten, Dense,Conv2D,MaxPooling2D\n",
    "\n",
    "from tensorflow.keras.preprocessing.image import ImageDataGenerator\n",
    "\n",
    "\n",
    "import numpy as np\n",
    "from tensorflow.keras.preprocessing import image"
   ]
  },
  {
   "cell_type": "code",
   "execution_count": 2,
   "metadata": {},
   "outputs": [
    {
     "name": "stderr",
     "output_type": "stream",
     "text": [
      "2021-11-28 17:10:07.949893: I tensorflow/core/platform/cpu_feature_guard.cc:142] This TensorFlow binary is optimized with oneAPI Deep Neural Network Library (oneDNN) to use the following CPU instructions in performance-critical operations:  AVX2 FMA\n",
      "To enable them in other operations, rebuild TensorFlow with the appropriate compiler flags.\n"
     ]
    }
   ],
   "source": [
    "## Initialising the CNN\n",
    "classifier = Sequential()"
   ]
  },
  {
   "cell_type": "code",
   "execution_count": 3,
   "metadata": {},
   "outputs": [],
   "source": [
    "\n",
    "classifier.add(Conv2D(64,(3,3),input_shape = (64,64,3), activation = 'relu'))\n",
    "## MaxPooling\n",
    "classifier.add(MaxPooling2D(pool_size = (2,2)))\n",
    "\n",
    "## Add another layer\n",
    "classifier.add(Conv2D(64,(3,3), activation = 'relu'))\n",
    "classifier.add(MaxPooling2D(pool_size = (2,2)))\n",
    "\n",
    "## Add another layer\n",
    "classifier.add(Conv2D(64,(3,3), activation = 'relu'))\n",
    "classifier.add(MaxPooling2D(pool_size = (2,2)))\n"
   ]
  },
  {
   "cell_type": "code",
   "execution_count": 4,
   "metadata": {},
   "outputs": [],
   "source": [
    "## Flattening\n",
    "classifier.add(Flatten())"
   ]
  },
  {
   "cell_type": "code",
   "execution_count": 5,
   "metadata": {},
   "outputs": [],
   "source": [
    "## Fully connected ANN, Hidden ANN and output layer\n",
    "classifier.add(Dense(units = 128, activation = 'relu'))\n"
   ]
  },
  {
   "cell_type": "code",
   "execution_count": 6,
   "metadata": {},
   "outputs": [],
   "source": [
    "#output layer\n",
    "classifier.add(Dense(units = 1, activation = 'sigmoid'))"
   ]
  },
  {
   "cell_type": "code",
   "execution_count": 7,
   "metadata": {},
   "outputs": [],
   "source": [
    "## Compliling\n",
    "classifier.compile(optimizer = 'adam', loss = 'binary_crossentropy', metrics = ['accuracy'])"
   ]
  },
  {
   "cell_type": "code",
   "execution_count": 8,
   "metadata": {},
   "outputs": [
    {
     "name": "stdout",
     "output_type": "stream",
     "text": [
      "Model: \"sequential\"\n",
      "_________________________________________________________________\n",
      "Layer (type)                 Output Shape              Param #   \n",
      "=================================================================\n",
      "conv2d (Conv2D)              (None, 62, 62, 64)        1792      \n",
      "_________________________________________________________________\n",
      "max_pooling2d (MaxPooling2D) (None, 31, 31, 64)        0         \n",
      "_________________________________________________________________\n",
      "conv2d_1 (Conv2D)            (None, 29, 29, 64)        36928     \n",
      "_________________________________________________________________\n",
      "max_pooling2d_1 (MaxPooling2 (None, 14, 14, 64)        0         \n",
      "_________________________________________________________________\n",
      "conv2d_2 (Conv2D)            (None, 12, 12, 64)        36928     \n",
      "_________________________________________________________________\n",
      "max_pooling2d_2 (MaxPooling2 (None, 6, 6, 64)          0         \n",
      "_________________________________________________________________\n",
      "flatten (Flatten)            (None, 2304)              0         \n",
      "_________________________________________________________________\n",
      "dense (Dense)                (None, 128)               295040    \n",
      "_________________________________________________________________\n",
      "dense_1 (Dense)              (None, 1)                 129       \n",
      "=================================================================\n",
      "Total params: 370,817\n",
      "Trainable params: 370,817\n",
      "Non-trainable params: 0\n",
      "_________________________________________________________________\n"
     ]
    }
   ],
   "source": [
    "classifier.summary()"
   ]
  },
  {
   "cell_type": "code",
   "execution_count": 9,
   "metadata": {},
   "outputs": [],
   "source": [
    "## data importing  scaling\n",
    "\n",
    "train_datagen = ImageDataGenerator(rescale=1./255)"
   ]
  },
  {
   "cell_type": "code",
   "execution_count": 10,
   "metadata": {},
   "outputs": [],
   "source": [
    "## Scaling test data\n",
    "test_datagen = ImageDataGenerator(rescale=1./255)"
   ]
  },
  {
   "cell_type": "code",
   "execution_count": 11,
   "metadata": {},
   "outputs": [
    {
     "name": "stdout",
     "output_type": "stream",
     "text": [
      "Found 98 images belonging to 2 classes.\n"
     ]
    }
   ],
   "source": [
    "## Importing training data\n",
    "train_set = train_datagen.flow_from_directory('dataset/training',target_size=(64, 64),class_mode='binary')"
   ]
  },
  {
   "cell_type": "code",
   "execution_count": 12,
   "metadata": {},
   "outputs": [
    {
     "data": {
      "text/plain": [
       "{'cats': 0, 'dogs': 1}"
      ]
     },
     "execution_count": 12,
     "metadata": {},
     "output_type": "execute_result"
    }
   ],
   "source": [
    "train_set.class_indices"
   ]
  },
  {
   "cell_type": "markdown",
   "metadata": {},
   "source": [
    "#which is cat which is dog?\n",
    "label_map = (train_set.class_indices)\n",
    "print(label_map)"
   ]
  },
  {
   "cell_type": "code",
   "execution_count": 13,
   "metadata": {},
   "outputs": [
    {
     "name": "stdout",
     "output_type": "stream",
     "text": [
      "Found 38 images belonging to 2 classes.\n"
     ]
    }
   ],
   "source": [
    "## Importng test data\n",
    "test_set = test_datagen.flow_from_directory('dataset/test',target_size=(64, 64),class_mode='binary')"
   ]
  },
  {
   "cell_type": "code",
   "execution_count": 14,
   "metadata": {},
   "outputs": [
    {
     "name": "stderr",
     "output_type": "stream",
     "text": [
      "2021-11-28 17:10:09.977526: I tensorflow/compiler/mlir/mlir_graph_optimization_pass.cc:185] None of the MLIR Optimization Passes are enabled (registered 2)\n"
     ]
    },
    {
     "name": "stdout",
     "output_type": "stream",
     "text": [
      "Epoch 1/50\n",
      "4/4 [==============================] - 4s 861ms/step - loss: 0.7627 - accuracy: 0.4898 - val_loss: 0.6934 - val_accuracy: 0.5263\n",
      "Epoch 2/50\n",
      "4/4 [==============================] - 2s 646ms/step - loss: 0.6923 - accuracy: 0.5000 - val_loss: 0.6908 - val_accuracy: 0.5000\n",
      "Epoch 3/50\n",
      "4/4 [==============================] - 1s 263ms/step - loss: 0.7005 - accuracy: 0.4694 - val_loss: 0.7035 - val_accuracy: 0.5000\n",
      "Epoch 4/50\n",
      "4/4 [==============================] - 1s 299ms/step - loss: 0.6999 - accuracy: 0.5000 - val_loss: 0.6908 - val_accuracy: 0.5263\n",
      "Epoch 5/50\n",
      "4/4 [==============================] - 1s 468ms/step - loss: 0.6868 - accuracy: 0.5612 - val_loss: 0.6917 - val_accuracy: 0.5000\n",
      "Epoch 6/50\n",
      "4/4 [==============================] - 1s 276ms/step - loss: 0.6825 - accuracy: 0.6735 - val_loss: 0.6912 - val_accuracy: 0.4737\n",
      "Epoch 7/50\n",
      "4/4 [==============================] - 1s 363ms/step - loss: 0.6990 - accuracy: 0.5000 - val_loss: 0.7102 - val_accuracy: 0.5000\n",
      "Epoch 8/50\n",
      "4/4 [==============================] - 1s 275ms/step - loss: 0.6909 - accuracy: 0.5000 - val_loss: 0.6845 - val_accuracy: 0.5789\n",
      "Epoch 9/50\n",
      "4/4 [==============================] - 1s 251ms/step - loss: 0.6864 - accuracy: 0.5714 - val_loss: 0.6873 - val_accuracy: 0.5000\n",
      "Epoch 10/50\n",
      "4/4 [==============================] - 1s 246ms/step - loss: 0.6687 - accuracy: 0.6531 - val_loss: 0.6931 - val_accuracy: 0.5000\n",
      "Epoch 11/50\n",
      "4/4 [==============================] - 2s 400ms/step - loss: 0.6892 - accuracy: 0.5204 - val_loss: 0.7821 - val_accuracy: 0.5000\n",
      "Epoch 12/50\n",
      "4/4 [==============================] - 1s 422ms/step - loss: 0.8128 - accuracy: 0.5000 - val_loss: 0.7559 - val_accuracy: 0.5000\n",
      "Epoch 13/50\n",
      "4/4 [==============================] - 1s 289ms/step - loss: 0.6793 - accuracy: 0.5612 - val_loss: 0.6877 - val_accuracy: 0.5000\n",
      "Epoch 14/50\n",
      "4/4 [==============================] - 1s 389ms/step - loss: 0.6856 - accuracy: 0.5000 - val_loss: 0.6799 - val_accuracy: 0.5263\n",
      "Epoch 15/50\n",
      "4/4 [==============================] - 2s 451ms/step - loss: 0.6677 - accuracy: 0.6224 - val_loss: 0.6734 - val_accuracy: 0.6579\n",
      "Epoch 16/50\n",
      "4/4 [==============================] - 1s 262ms/step - loss: 0.6497 - accuracy: 0.7857 - val_loss: 0.6606 - val_accuracy: 0.7105\n",
      "Epoch 17/50\n",
      "4/4 [==============================] - 1s 397ms/step - loss: 0.6434 - accuracy: 0.5612 - val_loss: 0.6522 - val_accuracy: 0.6316\n",
      "Epoch 18/50\n",
      "4/4 [==============================] - 1s 357ms/step - loss: 0.5889 - accuracy: 0.6633 - val_loss: 0.6489 - val_accuracy: 0.6053\n",
      "Epoch 19/50\n",
      "4/4 [==============================] - 1s 309ms/step - loss: 0.5743 - accuracy: 0.7041 - val_loss: 0.8561 - val_accuracy: 0.4737\n",
      "Epoch 20/50\n",
      "4/4 [==============================] - 2s 360ms/step - loss: 0.5804 - accuracy: 0.6735 - val_loss: 0.6744 - val_accuracy: 0.6316\n",
      "Epoch 21/50\n",
      "4/4 [==============================] - 1s 299ms/step - loss: 0.5609 - accuracy: 0.6633 - val_loss: 0.5951 - val_accuracy: 0.7368\n",
      "Epoch 22/50\n",
      "4/4 [==============================] - 1s 320ms/step - loss: 0.5536 - accuracy: 0.7449 - val_loss: 0.6174 - val_accuracy: 0.5789\n",
      "Epoch 23/50\n",
      "4/4 [==============================] - 1s 309ms/step - loss: 0.4894 - accuracy: 0.7755 - val_loss: 0.6750 - val_accuracy: 0.6053\n",
      "Epoch 24/50\n",
      "4/4 [==============================] - 1s 442ms/step - loss: 0.4527 - accuracy: 0.7959 - val_loss: 0.8249 - val_accuracy: 0.5789\n",
      "Epoch 25/50\n",
      "4/4 [==============================] - 1s 330ms/step - loss: 0.3965 - accuracy: 0.8367 - val_loss: 1.0719 - val_accuracy: 0.5526\n",
      "Epoch 26/50\n",
      "4/4 [==============================] - 1s 345ms/step - loss: 0.5343 - accuracy: 0.6735 - val_loss: 0.6255 - val_accuracy: 0.6579\n",
      "Epoch 27/50\n",
      "4/4 [==============================] - 2s 373ms/step - loss: 0.4516 - accuracy: 0.7857 - val_loss: 0.6185 - val_accuracy: 0.6579\n",
      "Epoch 28/50\n",
      "4/4 [==============================] - 1s 421ms/step - loss: 0.4085 - accuracy: 0.7857 - val_loss: 0.8199 - val_accuracy: 0.6053\n",
      "Epoch 29/50\n",
      "4/4 [==============================] - 1s 465ms/step - loss: 0.3228 - accuracy: 0.8673 - val_loss: 0.7197 - val_accuracy: 0.6316\n",
      "Epoch 30/50\n",
      "4/4 [==============================] - 1s 398ms/step - loss: 0.3358 - accuracy: 0.8571 - val_loss: 0.8432 - val_accuracy: 0.5263\n",
      "Epoch 31/50\n",
      "4/4 [==============================] - 1s 283ms/step - loss: 0.2633 - accuracy: 0.8878 - val_loss: 0.7565 - val_accuracy: 0.5789\n",
      "Epoch 32/50\n",
      "4/4 [==============================] - 1s 321ms/step - loss: 0.2341 - accuracy: 0.8980 - val_loss: 0.8495 - val_accuracy: 0.6053\n",
      "Epoch 33/50\n",
      "4/4 [==============================] - 1s 335ms/step - loss: 0.1733 - accuracy: 0.9694 - val_loss: 0.7824 - val_accuracy: 0.6842\n",
      "Epoch 34/50\n",
      "4/4 [==============================] - 1s 376ms/step - loss: 0.1407 - accuracy: 0.9592 - val_loss: 1.2362 - val_accuracy: 0.6053\n",
      "Epoch 35/50\n",
      "4/4 [==============================] - 2s 335ms/step - loss: 0.1251 - accuracy: 0.9490 - val_loss: 1.2784 - val_accuracy: 0.5526\n",
      "Epoch 36/50\n",
      "4/4 [==============================] - 2s 556ms/step - loss: 0.3472 - accuracy: 0.8469 - val_loss: 0.6011 - val_accuracy: 0.7368\n",
      "Epoch 37/50\n",
      "4/4 [==============================] - 1s 395ms/step - loss: 0.3348 - accuracy: 0.8571 - val_loss: 0.6925 - val_accuracy: 0.6316\n",
      "Epoch 38/50\n",
      "4/4 [==============================] - 1s 403ms/step - loss: 0.2449 - accuracy: 0.9184 - val_loss: 0.6454 - val_accuracy: 0.6842\n",
      "Epoch 39/50\n",
      "4/4 [==============================] - 1s 326ms/step - loss: 0.1824 - accuracy: 0.9490 - val_loss: 0.8683 - val_accuracy: 0.5789\n",
      "Epoch 40/50\n",
      "4/4 [==============================] - 1s 297ms/step - loss: 0.1489 - accuracy: 0.9694 - val_loss: 0.9708 - val_accuracy: 0.6053\n",
      "Epoch 41/50\n",
      "4/4 [==============================] - 1s 298ms/step - loss: 0.1791 - accuracy: 0.9388 - val_loss: 1.1387 - val_accuracy: 0.6316\n",
      "Epoch 42/50\n",
      "4/4 [==============================] - 1s 284ms/step - loss: 0.1110 - accuracy: 0.9490 - val_loss: 1.2312 - val_accuracy: 0.5789\n",
      "Epoch 43/50\n",
      "4/4 [==============================] - 1s 257ms/step - loss: 0.0611 - accuracy: 0.9796 - val_loss: 0.9680 - val_accuracy: 0.6316\n",
      "Epoch 44/50\n",
      "4/4 [==============================] - 1s 313ms/step - loss: 0.1054 - accuracy: 0.9592 - val_loss: 1.0390 - val_accuracy: 0.6053\n",
      "Epoch 45/50\n",
      "4/4 [==============================] - 1s 312ms/step - loss: 0.0472 - accuracy: 1.0000 - val_loss: 1.6693 - val_accuracy: 0.5789\n",
      "Epoch 46/50\n",
      "4/4 [==============================] - 2s 485ms/step - loss: 0.0663 - accuracy: 0.9796 - val_loss: 1.5296 - val_accuracy: 0.5789\n",
      "Epoch 47/50\n",
      "4/4 [==============================] - 1s 428ms/step - loss: 0.0281 - accuracy: 1.0000 - val_loss: 1.4957 - val_accuracy: 0.6053\n",
      "Epoch 48/50\n",
      "4/4 [==============================] - 1s 402ms/step - loss: 0.0326 - accuracy: 0.9898 - val_loss: 1.6441 - val_accuracy: 0.6053\n",
      "Epoch 49/50\n",
      "4/4 [==============================] - 1s 420ms/step - loss: 0.0147 - accuracy: 1.0000 - val_loss: 1.9455 - val_accuracy: 0.5789\n",
      "Epoch 50/50\n",
      "4/4 [==============================] - 1s 319ms/step - loss: 0.0148 - accuracy: 1.0000 - val_loss: 2.2246 - val_accuracy: 0.5789\n"
     ]
    },
    {
     "data": {
      "text/plain": [
       "<keras.callbacks.History at 0x7fb8ab31c1c0>"
      ]
     },
     "execution_count": 14,
     "metadata": {},
     "output_type": "execute_result"
    }
   ],
   "source": [
    "## fitting model to images\n",
    "classifier.fit(train_set,epochs=50,validation_data=test_set)"
   ]
  },
  {
   "cell_type": "code",
   "execution_count": 15,
   "metadata": {},
   "outputs": [],
   "source": [
    "#save the model\n",
    "classifier.save('catdogmodel1311.h5')"
   ]
  },
  {
   "cell_type": "code",
   "execution_count": 16,
   "metadata": {},
   "outputs": [],
   "source": [
    "## prediction of single new data\n",
    "\n",
    "test_image= image.load_img('dataset/inference/dog1.jpg' ,target_size =(64,64))\n"
   ]
  },
  {
   "cell_type": "code",
   "execution_count": 17,
   "metadata": {},
   "outputs": [
    {
     "data": {
      "image/png": "[encoded data removed]",
      "text/plain": [
       "<PIL.Image.Image image mode=RGB size=64x64 at 0x7FB8A986EB20>"
      ]
     },
     "execution_count": 17,
     "metadata": {},
     "output_type": "execute_result"
    }
   ],
   "source": [
    "test_image"
   ]
  },
  {
   "cell_type": "code",
   "execution_count": 18,
   "metadata": {},
   "outputs": [],
   "source": [
    "## Convert image to array\n",
    "test_image = image.img_to_array(test_image)"
   ]
  },
  {
   "cell_type": "code",
   "execution_count": 19,
   "metadata": {},
   "outputs": [],
   "source": [
    "## For single prediction change the dimension . \n",
    "\n",
    "test_image=test_image.reshape(1,64,64,3)"
   ]
  },
  {
   "cell_type": "code",
   "execution_count": 20,
   "metadata": {},
   "outputs": [],
   "source": [
    "result = classifier.predict(test_image)"
   ]
  },
  {
   "cell_type": "code",
   "execution_count": 21,
   "metadata": {},
   "outputs": [
    {
     "data": {
      "text/plain": [
       "array([[1.]], dtype=float32)"
      ]
     },
     "execution_count": 21,
     "metadata": {},
     "output_type": "execute_result"
    }
   ],
   "source": [
    "result"
   ]
  },
  {
   "cell_type": "code",
   "execution_count": 22,
   "metadata": {},
   "outputs": [],
   "source": [
    "result=np.around(result)"
   ]
  },
  {
   "cell_type": "code",
   "execution_count": 23,
   "metadata": {},
   "outputs": [],
   "source": [
    "## Class label of dog and cat\n",
    "\n",
    "if result == 1:\n",
    "    prediction = 'dog'\n",
    "else:\n",
    "    prediction = 'cat'"
   ]
  },
  {
   "cell_type": "code",
   "execution_count": 24,
   "metadata": {},
   "outputs": [
    {
     "data": {
      "text/plain": [
       "'dog'"
      ]
     },
     "execution_count": 24,
     "metadata": {},
     "output_type": "execute_result"
    }
   ],
   "source": [
    "prediction"
   ]
  },
  {
   "cell_type": "code",
   "execution_count": null,
   "metadata": {},
   "outputs": [],
   "source": []
  }
 ],
 "metadata": {
  "kernelspec": {
   "display_name": "Python 3 (ipykernel)",
   "language": "python",
   "name": "python3"
  },
  "language_info": {
   "codemirror_mode": {
    "name": "ipython",
    "version": 3
   },
   "file_extension": ".py",
   "mimetype": "text/x-python",
   "name": "python",
   "nbconvert_exporter": "python",
   "pygments_lexer": "ipython3",
   "version": "3.8.8"
  }
 },
 "nbformat": 4,
 "nbformat_minor": 2
}
